{
 "cells": [
  {
   "cell_type": "markdown",
   "id": "dff21188",
   "metadata": {},
   "source": [
    "# My Jupyter Notebook on IBM Watson Studio"
   ]
  },
  {
   "cell_type": "markdown",
   "id": "9227a235",
   "metadata": {},
   "source": [
    "**My name is Zanne, and I'm a web developer**"
   ]
  },
  {
   "cell_type": "markdown",
   "id": "a5dedef6",
   "metadata": {},
   "source": [
    "*I am interested in data science because it's always right to discover new things*"
   ]
  },
  {
   "cell_type": "markdown",
   "id": "1f98f2f9",
   "metadata": {},
   "source": [
    "### It's supposed to save the world."
   ]
  },
  {
   "cell_type": "code",
   "execution_count": 2,
   "id": "51930d10",
   "metadata": {},
   "outputs": [
    {
     "name": "stdout",
     "output_type": "stream",
     "text": [
      "Hello world\n"
     ]
    }
   ],
   "source": [
    "print('Hello world')"
   ]
  },
  {
   "cell_type": "markdown",
   "id": "ef9df7da",
   "metadata": {},
   "source": [
    "Inline-style: \n",
    "![alt text](https://github.com/adam-p/markdown-here/raw/master/src/common/images/icon48.png \"Logo Title Text 1\")\n",
    "\n",
    "---\n",
    "\n",
    "Markdown | Less | Pretty\n",
    "--- | --- | ---\n",
    "*Still* | `renders` | **nicely**\n",
    "1 | 2 | 3"
   ]
  },
  {
   "cell_type": "code",
   "execution_count": null,
   "id": "0f541f51",
   "metadata": {},
   "outputs": [],
   "source": []
  }
 ],
 "metadata": {
  "kernelspec": {
   "display_name": "Python 3 (ipykernel)",
   "language": "python",
   "name": "python3"
  },
  "language_info": {
   "codemirror_mode": {
    "name": "ipython",
    "version": 3
   },
   "file_extension": ".py",
   "mimetype": "text/x-python",
   "name": "python",
   "nbconvert_exporter": "python",
   "pygments_lexer": "ipython3",
   "version": "3.8.12"
  }
 },
 "nbformat": 4,
 "nbformat_minor": 5
}
